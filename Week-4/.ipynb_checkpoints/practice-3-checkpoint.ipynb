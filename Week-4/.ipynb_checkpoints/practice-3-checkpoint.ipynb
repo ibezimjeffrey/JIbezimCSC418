{
 "cells": [
  {
   "cell_type": "code",
   "execution_count": 7,
   "id": "1d70ef7c",
   "metadata": {},
   "outputs": [],
   "source": [
    "import cv2\n",
    "import numpy as np\n",
    "\n",
    "image = cv2.imread('img/sst.jpeg', cv2.IMREAD_GRAYSCALE)\n",
    "\n",
    "image = cv2.GaussianBlur(image, (5,5),0)\n",
    "\n",
    "kernel_x = np.array([[9,0],[0,-1]])\n",
    "kernel_y = np.array([[0,1],[-1,0]])\n",
    "\n",
    "robert_x = cv2.filter2D(image,-1,kernel_x)\n",
    "robert_y = cv2.filter2D(image, -1, kernel_y)\n",
    "\n",
    "robert_combined = np.sqrt(np.square(robert_x) + np.square(robert_y))\n",
    "cv2.imshow(\"Original\", image)\n",
    "cv2.imshow(\"Robert Edges\", np.uint8(robert_combined))\n",
    "\n",
    "cv2.waitKey(0)\n",
    "cv2.destroyAllWindows()"
   ]
  },
  {
   "cell_type": "code",
   "execution_count": null,
   "id": "a982dbe8",
   "metadata": {},
   "outputs": [],
   "source": []
  }
 ],
 "metadata": {
  "kernelspec": {
   "display_name": "Python 3 (ipykernel)",
   "language": "python",
   "name": "python3"
  },
  "language_info": {
   "codemirror_mode": {
    "name": "ipython",
    "version": 3
   },
   "file_extension": ".py",
   "mimetype": "text/x-python",
   "name": "python",
   "nbconvert_exporter": "python",
   "pygments_lexer": "ipython3",
   "version": "3.11.5"
  }
 },
 "nbformat": 4,
 "nbformat_minor": 5
}
