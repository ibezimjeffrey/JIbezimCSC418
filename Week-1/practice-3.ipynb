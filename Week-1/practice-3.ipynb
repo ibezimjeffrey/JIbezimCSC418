{
 "cells": [
  {
   "cell_type": "code",
   "execution_count": 4,
   "id": "a1f0a61b",
   "metadata": {},
   "outputs": [
    {
     "name": "stdout",
     "output_type": "stream",
     "text": [
      "Before saving image:\n",
      "['img4.jpg']\n",
      "After saving image:\n",
      "['grayImage.jpeg', 'img4.jpg']\n",
      "Successfully saved\n"
     ]
    }
   ],
   "source": [
    "import cv2\n",
    "import os\n",
    "image_path = r'C:\\Users\\User\\Documents\\CSC418\\Week-1\\img\\img4.jpg'\n",
    "directory = r'C:\\Users\\User\\Documents\\CSC418\\Week-1\\img'\n",
    "img = cv2.imread(image_path,0)\n",
    "os.chdir(directory)\n",
    "print(\"Before saving image:\")\n",
    "print(os.listdir(directory))\n",
    "filename=\"grayImage.jpeg\"\n",
    "cv2.imwrite(filename,img)\n",
    "print(\"After saving image:\")\n",
    "print(os.listdir(directory))\n",
    "print(\"Successfully saved\")"
   ]
  },
  {
   "cell_type": "code",
   "execution_count": null,
   "id": "f1c2a72b",
   "metadata": {},
   "outputs": [],
   "source": []
  },
  {
   "cell_type": "code",
   "execution_count": null,
   "id": "ca33e051",
   "metadata": {},
   "outputs": [],
   "source": []
  },
  {
   "cell_type": "code",
   "execution_count": null,
   "id": "6ad65401",
   "metadata": {},
   "outputs": [],
   "source": []
  }
 ],
 "metadata": {
  "kernelspec": {
   "display_name": "Python 3 (ipykernel)",
   "language": "python",
   "name": "python3"
  },
  "language_info": {
   "codemirror_mode": {
    "name": "ipython",
    "version": 3
   },
   "file_extension": ".py",
   "mimetype": "text/x-python",
   "name": "python",
   "nbconvert_exporter": "python",
   "pygments_lexer": "ipython3",
   "version": "3.11.5"
  }
 },
 "nbformat": 4,
 "nbformat_minor": 5
}
