{
 "cells": [
  {
   "cell_type": "code",
   "execution_count": 9,
   "id": "55d456b6",
   "metadata": {},
   "outputs": [
    {
     "name": "stdout",
     "output_type": "stream",
     "text": [
      "Username (First Name): Enase\n",
      "Password (Surname): 7\n"
     ]
    },
    {
     "ename": "error",
     "evalue": "OpenCV(4.9.0) D:\\a\\opencv-python\\opencv-python\\opencv\\modules\\highgui\\src\\window.cpp:971: error: (-215:Assertion failed) size.width>0 && size.height>0 in function 'cv::imshow'\n",
     "output_type": "error",
     "traceback": [
      "\u001b[1;31m---------------------------------------------------------------------------\u001b[0m",
      "\u001b[1;31merror\u001b[0m                                     Traceback (most recent call last)",
      "Cell \u001b[1;32mIn[9], line 35\u001b[0m\n\u001b[0;32m     32\u001b[0m         \u001b[38;5;28mprint\u001b[39m(\u001b[38;5;124m\"\u001b[39m\u001b[38;5;124mInvalid username.\u001b[39m\u001b[38;5;124m\"\u001b[39m)\n\u001b[0;32m     34\u001b[0m \u001b[38;5;28;01mif\u001b[39;00m \u001b[38;5;18m__name__\u001b[39m \u001b[38;5;241m==\u001b[39m \u001b[38;5;124m\"\u001b[39m\u001b[38;5;124m__main__\u001b[39m\u001b[38;5;124m\"\u001b[39m:\n\u001b[1;32m---> 35\u001b[0m     facial_recognition_login()\n",
      "Cell \u001b[1;32mIn[9], line 22\u001b[0m, in \u001b[0;36mfacial_recognition_login\u001b[1;34m()\u001b[0m\n\u001b[0;32m     20\u001b[0m img \u001b[38;5;241m=\u001b[39m cv2\u001b[38;5;241m.\u001b[39mimread(path)\n\u001b[0;32m     21\u001b[0m window_name \u001b[38;5;241m=\u001b[39m \u001b[38;5;124m\"\u001b[39m\u001b[38;5;124mDisplay Image\u001b[39m\u001b[38;5;124m\"\u001b[39m\n\u001b[1;32m---> 22\u001b[0m cv2\u001b[38;5;241m.\u001b[39mimshow(window_name, img)\n\u001b[0;32m     23\u001b[0m cv2\u001b[38;5;241m.\u001b[39mwaitKey(\u001b[38;5;241m0\u001b[39m)\n\u001b[0;32m     24\u001b[0m cv2\u001b[38;5;241m.\u001b[39mdestroyAllWindows()\n",
      "\u001b[1;31merror\u001b[0m: OpenCV(4.9.0) D:\\a\\opencv-python\\opencv-python\\opencv\\modules\\highgui\\src\\window.cpp:971: error: (-215:Assertion failed) size.width>0 && size.height>0 in function 'cv::imshow'\n"
     ]
    }
   ],
   "source": [
    "import cv2\n",
    "\n",
    "def facial_recognition_login():\n",
    "    # Request username and password\n",
    "    username = input(\"Username (First Name): \").strip().lower()\n",
    "    password = sum(ord(char) - ord('a') + 1 for char in input(\"Password (Surname): \").strip().lower())\n",
    "\n",
    "    # Define a dictionary for username-password mapping\n",
    "    user_password_map = {\n",
    "        \"enase\": 7\n",
    "    }\n",
    "\n",
    "    # Get the real password based on the username\n",
    "    real_password = user_password_map.get(username)\n",
    "\n",
    "    # Check if username exists in the dictionary\n",
    "    if real_password is not None:\n",
    "        # Load and display the image\n",
    "        path = 'img/{username}.jpeg'\n",
    "        img = cv2.imread(path)\n",
    "        window_name = \"Display Image\"\n",
    "        cv2.imshow(window_name, img)\n",
    "        cv2.waitKey(0)\n",
    "        cv2.destroyAllWindows()\n",
    "\n",
    "        # Check if password matches\n",
    "        if password == real_password:\n",
    "            print(f\"Welcome, {username.capitalize()}!\")\n",
    "        else:\n",
    "            print(\"Incorrect password.\")\n",
    "    else:\n",
    "        print(\"Invalid username.\")\n",
    "\n",
    "if __name__ == \"__main__\":\n",
    "    facial_recognition_login()\n"
   ]
  },
  {
   "cell_type": "code",
   "execution_count": null,
   "id": "fa828645",
   "metadata": {},
   "outputs": [],
   "source": []
  }
 ],
 "metadata": {
  "kernelspec": {
   "display_name": "Python 3 (ipykernel)",
   "language": "python",
   "name": "python3"
  },
  "language_info": {
   "codemirror_mode": {
    "name": "ipython",
    "version": 3
   },
   "file_extension": ".py",
   "mimetype": "text/x-python",
   "name": "python",
   "nbconvert_exporter": "python",
   "pygments_lexer": "ipython3",
   "version": "3.11.5"
  }
 },
 "nbformat": 4,
 "nbformat_minor": 5
}
