{
 "cells": [
  {
   "cell_type": "code",
   "execution_count": null,
   "id": "55d456b6",
   "metadata": {},
   "outputs": [],
   "source": [
    "import cv2\n",
    "\n",
    "def facial_recognition_login():\n",
    "    # Request username and password\n",
    "    username = input(\"Username (First Name): \").strip().lower()\n",
    "    password = sum(ord(char) - ord('a') + 1 for char in input(\"Password (Surname): \").strip().lower())\n",
    "    \n",
    "    if (username == \"Enase\"):\n",
    "        password = \"\"\n",
    "path = 'img/img4.jpg'\n",
    "img = cv2.imread(path)\n",
    "window_name = \"Display Image\"\n",
    "cv2.imshow(window_name, img)\n",
    "cv2.waitKey(0)\n",
    "cv2.destroyAllWindows()"
   ]
  }
 ],
 "metadata": {
  "kernelspec": {
   "display_name": "Python 3 (ipykernel)",
   "language": "python",
   "name": "python3"
  },
  "language_info": {
   "codemirror_mode": {
    "name": "ipython",
    "version": 3
   },
   "file_extension": ".py",
   "mimetype": "text/x-python",
   "name": "python",
   "nbconvert_exporter": "python",
   "pygments_lexer": "ipython3",
   "version": "3.11.5"
  }
 },
 "nbformat": 4,
 "nbformat_minor": 5
}
