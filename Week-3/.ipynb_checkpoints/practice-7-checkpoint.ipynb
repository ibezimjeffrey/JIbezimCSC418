{
 "cells": [
  {
   "cell_type": "code",
   "execution_count": 1,
   "id": "c0f7bf8a-19f7-4706-a11a-98b3133a2201",
   "metadata": {},
   "outputs": [],
   "source": [
    "import cv2 as cv\n",
    "\n",
    "image = cv.imread(\"img/sst.jpeg\",0)\n",
    "\n",
    "cv.imshow(\"original image\", image)\n",
    "cv.waitKey(0)\n",
    "\n",
    "Gaussian = cv.GaussianBlur(image, (7,7),0)\n",
    "cv.imshow(\"Gaussian Blurring\", Gaussian)\n",
    "cv.waitKey(0)\n",
    "\n",
    "median = cv.medianBlur(image,5)\n",
    "cv.imshow(\"Median Blurring\", median)\n",
    "cv.waitKey(0)\n",
    "\n",
    "\n",
    "bilateral = cv.bilateralFilter(image,9,75,75)\n",
    "cv.imshow(\"Bilateral Blurring\", bilateral)\n",
    "cv.waitKey(0)\n",
    "cv.destroyAllWindows()"
   ]
  },
  {
   "cell_type": "code",
   "execution_count": null,
   "id": "e59b55ff-e26e-4720-b28b-7caa2307f24c",
   "metadata": {},
   "outputs": [],
   "source": []
  }
 ],
 "metadata": {
  "kernelspec": {
   "display_name": "Python 3 (ipykernel)",
   "language": "python",
   "name": "python3"
  },
  "language_info": {
   "codemirror_mode": {
    "name": "ipython",
    "version": 3
   },
   "file_extension": ".py",
   "mimetype": "text/x-python",
   "name": "python",
   "nbconvert_exporter": "python",
   "pygments_lexer": "ipython3",
   "version": "3.11.5"
  }
 },
 "nbformat": 4,
 "nbformat_minor": 5
}
